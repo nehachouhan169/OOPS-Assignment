{
  "nbformat": 4,
  "nbformat_minor": 0,
  "metadata": {
    "colab": {
      "provenance": []
    },
    "kernelspec": {
      "name": "python3",
      "display_name": "Python 3"
    },
    "language_info": {
      "name": "python"
    }
  },
  "cells": [
    {
      "cell_type": "markdown",
      "source": [
        "## OOPS Question/Answers"
      ],
      "metadata": {
        "id": "t0e7tBhhv6ku"
      }
    },
    {
      "cell_type": "markdown",
      "source": [
        "### Theory Q/A"
      ],
      "metadata": {
        "id": "9gh-YA6kwK4y"
      }
    },
    {
      "cell_type": "markdown",
      "source": [
        "### 1) What is Object-Oriented Programming (OOP)?\n",
        "#### > OOP is a way of writing programs by grouping related data and actions together into things called objects. These objects are made using classes, which act like blueprints."
      ],
      "metadata": {
        "id": "2LYjsHO9wRMb"
      }
    },
    {
      "cell_type": "markdown",
      "source": [
        "### 2) What is a class in OOP?\n",
        "#### > A class defines what an object will be and what it can do and its like a blueprint for creating objects."
      ],
      "metadata": {
        "id": "lzQdtIDJwu9s"
      }
    },
    {
      "cell_type": "markdown",
      "source": [
        "### 3) What is an object in OOP?\n",
        "#### > An object is a real-world thing in program that is made using a class.It stores information and can perform actions."
      ],
      "metadata": {
        "id": "JoDkLKYCxCJ2"
      }
    },
    {
      "cell_type": "markdown",
      "source": [
        "### 4) What is the difference between abstraction and encapsulation?\n",
        "#### > ABSTRACTION- Hiding unnecessary details and showing only the important parts and to simplify complexity for the user.\n",
        "#### > ENCAPSULATION- Hiding the internal state of an object and protecting it from outside interference and to protect data and keep code organized.\n"
      ],
      "metadata": {
        "id": "oaT60BpAxggZ"
      }
    },
    {
      "cell_type": "markdown",
      "source": [
        "### 5) What are dunder methods in Python?\n",
        "#### > Dunder methods are special methods in Python that have double underscores at the beginning and end of their names  — like __init__, __str__, __add__, etc."
      ],
      "metadata": {
        "id": "98gL2scqyyqZ"
      }
    },
    {
      "cell_type": "markdown",
      "source": [
        "### 6) Explain the concept of inheritance in OOP.\n",
        "#### > Inheritance means acquring properities from parent class which also means that one class (child or subclass) can use the code (properties and methods) from another class (parent or superclass)."
      ],
      "metadata": {
        "id": "oyCyH7qNzDbo"
      }
    },
    {
      "cell_type": "markdown",
      "source": [
        "### 7) What is polymorphism in OOP?\n",
        "#### > Polymorphism means \"many forms\".It allows the same function or method name to behave differently depending on the object that calls it.\n",
        "\n"
      ],
      "metadata": {
        "id": "C62PQjAf0EJ8"
      }
    },
    {
      "cell_type": "markdown",
      "source": [
        "### 8) How is encapsulation achieved in Python?\n",
        "#### > Encapsulation is the idea of hiding internal details and only showing what's necessary.It is achived Using Classes and by using Access Modifiers"
      ],
      "metadata": {
        "id": "gqKG0Atf0TLo"
      }
    },
    {
      "cell_type": "markdown",
      "source": [
        "### 9) What is a constructor in Python?\n",
        "#### > A constructor is a special method in Python that runs automatially when you create an object from a class.It is used to initialize the object's data .The constructor method is called __init__()."
      ],
      "metadata": {
        "id": "dQ8mic_-0yTb"
      }
    },
    {
      "cell_type": "markdown",
      "source": [
        "### 10) What are class and static methods in Python?\n",
        "#### > CLASS METHODS- Works with the class itself, not individual objects and Can access or modify class variables and its defined using the @classmethod decorator.\n",
        "#### > STATIC METHOD- Doesn't use self or cls and does not access instance or class data and is defined using the @staticmethod decorator."
      ],
      "metadata": {
        "id": "FTe9SRkP1d2g"
      }
    },
    {
      "cell_type": "markdown",
      "source": [
        "### 11) What is method overloading in Python?\n",
        "#### > Method Overloading means having multiple methods with the same name but different number or types of arguments."
      ],
      "metadata": {
        "id": "A_5Hc3p52I79"
      }
    },
    {
      "cell_type": "markdown",
      "source": [
        "### 12) What is method overriding in OOP?\n",
        "#### > Method overriding means a child class has the same name, same parameters, but different behavior."
      ],
      "metadata": {
        "id": "dAJL0zKA2TPD"
      }
    },
    {
      "cell_type": "markdown",
      "source": [
        "### 13) What is a property decorator in Python?\n",
        "#### > A property decorator in Python turns a method into an attribute — so we can access it like a variable, even though it's a method behind the scenes.It is used with the @property keyword."
      ],
      "metadata": {
        "id": "SH7jwVNG2qIn"
      }
    },
    {
      "cell_type": "markdown",
      "source": [
        "### 14) Why is polymorphism important in OOP?\n",
        "#### > Polymorphism allows the same method name to work differently depending on the object that uses it.It is important because it makes our code more flexible, reusable, and easier to manage when working with many related objects."
      ],
      "metadata": {
        "id": "K5vPVPji270J"
      }
    },
    {
      "cell_type": "markdown",
      "source": [
        "### 15) What is an abstract class in Python?\n",
        "#### > An abstract class is a class that cannot be used to create objects directly."
      ],
      "metadata": {
        "id": "aRhseJVd3j8Y"
      }
    },
    {
      "cell_type": "markdown",
      "source": [
        "### 16) What are the advantages of OOP?\n",
        "#### > The advantages of oops are:\n",
        "##### Reusability\n",
        "##### code is organized into objects it's easier to fix bugs, add features, or modify\n",
        "##### Saves time and avoids duplicate code.\n",
        "##### Makes code simpler and more flexible\n",
        "##### Easy to manage and understand.\n"
      ],
      "metadata": {
        "id": "xoJB23ks39Tu"
      }
    },
    {
      "cell_type": "markdown",
      "source": [
        "### 17) What is the difference between a class variable and an instance variable?\n",
        "#### > CLASS VARIABLE- It is shared by all objects and is defined inside the class but outside any method.\n",
        "#### > INSTANCE VARIABLE- It is unique to each object and is defined inside methods usually __init__"
      ],
      "metadata": {
        "id": "bQnQTOFe5_-H"
      }
    },
    {
      "cell_type": "markdown",
      "source": [
        "### 18) What is multiple inheritance in Python?\n",
        "#### > Multiple Inheritance means that a class can inherit from more than one parent class."
      ],
      "metadata": {
        "id": "RR-Xf2uc70Tk"
      }
    },
    {
      "cell_type": "markdown",
      "source": [
        "### 19) Explain the purpose of \"__str__\" and \"__repr__\" methods in Python?\n",
        "#### > _str__() and __repr__() are special (dunder) methods used to define how objects are displayed as strings but they are used in different situations and for different purposes.\n",
        "### __str__ are called by print() or str(object) means to return a readable string and for users of the object.\n",
        "### __rep__ are called by repr(object) or when the object in the Python shell means to return a string that looks like Python code."
      ],
      "metadata": {
        "id": "Sqb-sR6s7-rC"
      }
    },
    {
      "cell_type": "markdown",
      "source": [
        "### 20) What is the significance of the \"super()\" function in Python?\n",
        "#### > The super() function is used to call a method from the parent class inside a child class.It is most commonly used with inheritance"
      ],
      "metadata": {
        "id": "ifcKOeja9JOV"
      }
    },
    {
      "cell_type": "markdown",
      "source": [
        "### 21) What is the significance of the __del__ method in Python?\n",
        "#### > The __del__() method is a special (dunder) method in Python called a destructor.It is automatically called when an object is about to be destroyed, usually when it's no longer needed.The purpose is to clean up resources used by the object and to perform final actions before the object is deleted."
      ],
      "metadata": {
        "id": "ihgiYun79cXt"
      }
    },
    {
      "cell_type": "markdown",
      "source": [
        "### 22) What is the difference between @staticmethod and @classmethod in Python?\n",
        "#### > @staticmethod- The @staticmethod decorator turns a method in a class into a regular function that belongs to the class it does not take self or cls as the first argument.It behaves just like a normal function, but it's placed inside a class for better organization.\n",
        "#### >  @classmethod- A method marked with @classmethod is a function that belongs to the class, not to instances of the class.It takes cls (not self) as the first argument, which refers to the class itself.It can access and modify class variables, but not instance variables.\n",
        "\n"
      ],
      "metadata": {
        "id": "kJ4EB4m692z2"
      }
    },
    {
      "cell_type": "markdown",
      "source": [
        "### 23) How does polymorphism work in Python with inheritance?\n",
        "#### > Polymorphism with inheritance in Python means a child class can override a method from the parent class,and when we call that method using a parent reference, the child's version runs."
      ],
      "metadata": {
        "id": "BR4O4zAx-jYc"
      }
    },
    {
      "cell_type": "markdown",
      "source": [
        "### 24) What is method chaining in Python OOP?\n",
        "#### > Method chaining means calling multiple methods one after another on the same object in a single line, like this :object.method1().method2().method3().It helps to write cleaner, more readable code, especially when performing a sequence of actions.\n",
        "\n"
      ],
      "metadata": {
        "id": "SHbqkQSt-2r6"
      }
    },
    {
      "cell_type": "markdown",
      "source": [
        "### 25) What is the purpose of the __call__ method in Python?\n",
        "#### > The __call__() method makes an object behave like a function means we can \"call\" the object using parentheses () as if it were a regular function.\n",
        "\n"
      ],
      "metadata": {
        "id": "eBX-K7vD_MBg"
      }
    },
    {
      "cell_type": "markdown",
      "source": [
        "### Practical Q/A"
      ],
      "metadata": {
        "id": "OlHBajIt9QEk"
      }
    },
    {
      "cell_type": "markdown",
      "source": [
        "### 1) Create a parent class Animal with a method speak() that prints a generic message. Create a child class Dog that overrides the speak() method to print \"Bark!\"."
      ],
      "metadata": {
        "id": "n2kNXnqH9rCO"
      }
    },
    {
      "cell_type": "code",
      "source": [
        "class Animal:\n",
        "    def speak(self):\n",
        "        print(\"The animal makes a sound.\")\n",
        "\n",
        "\n",
        "class Dog(Animal):\n",
        "    def speak(self):\n",
        "        print(\"Bark!\")"
      ],
      "metadata": {
        "id": "nAHNU9uB9phq"
      },
      "execution_count": 1,
      "outputs": []
    },
    {
      "cell_type": "code",
      "source": [
        "a = Animal()\n",
        "a.speak()"
      ],
      "metadata": {
        "colab": {
          "base_uri": "https://localhost:8080/"
        },
        "id": "67-q3vQh-Ggv",
        "outputId": "5f39ce9c-877e-443f-c2d0-1fa195483a6a"
      },
      "execution_count": 2,
      "outputs": [
        {
          "output_type": "stream",
          "name": "stdout",
          "text": [
            "The animal makes a sound.\n"
          ]
        }
      ]
    },
    {
      "cell_type": "code",
      "source": [
        "d = Dog()\n",
        "d.speak()"
      ],
      "metadata": {
        "colab": {
          "base_uri": "https://localhost:8080/"
        },
        "id": "K2GKjcZl-LK4",
        "outputId": "5699ac40-bac4-45e6-d888-5eaf998ba1cd"
      },
      "execution_count": 3,
      "outputs": [
        {
          "output_type": "stream",
          "name": "stdout",
          "text": [
            "Bark!\n"
          ]
        }
      ]
    },
    {
      "cell_type": "markdown",
      "source": [
        "### 2)  Write a program to create an abstract class Shape with a method area(). Derive classes Circle and Rectangle from it and implement the area() method in both."
      ],
      "metadata": {
        "id": "reT_L4YK-Qa4"
      }
    },
    {
      "cell_type": "code",
      "source": [
        "from abc import ABC, abstractmethod\n",
        "class Shape(ABC):\n",
        "    @abstractmethod\n",
        "    def area(self):\n",
        "        pass\n",
        "\n",
        "class Circle(Shape):\n",
        "    def __init__(self, radius):\n",
        "        self.radius = radius\n",
        "\n",
        "    def area(self):\n",
        "        return math.pi * self.radius ** 2\n",
        "\n",
        "class Rectangle(Shape):\n",
        "    def __init__(self, width, height):\n",
        "        self.width = width\n",
        "        self.height = height\n",
        "\n",
        "    def area(self):\n",
        "        return self.width * self.height"
      ],
      "metadata": {
        "id": "ifmQlivY-Ugy"
      },
      "execution_count": 16,
      "outputs": []
    },
    {
      "cell_type": "code",
      "source": [
        "circle = Circle(2)\n",
        "rectangle = Rectangle(2, 6)\n",
        "print(\"Area of Circle:\", circle.area())\n",
        "print(\"Area of Rectangle:\", rectangle.area())"
      ],
      "metadata": {
        "colab": {
          "base_uri": "https://localhost:8080/"
        },
        "id": "RNN6399Z-54r",
        "outputId": "0aa39c0b-b5f0-49f7-c7e8-1948837c7832"
      },
      "execution_count": 17,
      "outputs": [
        {
          "output_type": "stream",
          "name": "stdout",
          "text": [
            "Area of Circle: 12.566370614359172\n",
            "Area of Rectangle: 12\n"
          ]
        }
      ]
    },
    {
      "cell_type": "markdown",
      "source": [
        "### 3) Implement a multi-level inheritance scenario where a class Vehicle has an attribute type. Derive a class Car and further derive a class ElectricCar that adds a battery attribute."
      ],
      "metadata": {
        "id": "I5SoxeNH_vgX"
      }
    },
    {
      "cell_type": "code",
      "source": [
        "class Vehicle:\n",
        "    def __init__(self):\n",
        "        self.type = \"Vehicle\"\n",
        "\n",
        "class Car(Vehicle):\n",
        "    def __init__(self):\n",
        "        super().__init__()\n",
        "        self.brand = \"Generic Car\"\n",
        "\n",
        "class ElectricCar(Car):\n",
        "    def __init__(self):\n",
        "        super().__init__()\n",
        "        self.battery = \"Electric Battery\"\n",
        "\n",
        "\n",
        "ecar = ElectricCar()\n",
        "print(\"Type:\", ecar.type)\n",
        "print(\"Brand:\", ecar.brand)\n",
        "print(\"Battery:\", ecar.battery)"
      ],
      "metadata": {
        "colab": {
          "base_uri": "https://localhost:8080/"
        },
        "id": "gutnlYv8_0Do",
        "outputId": "bc90ec13-4587-4dcf-abdf-9df6002b0a17"
      },
      "execution_count": 18,
      "outputs": [
        {
          "output_type": "stream",
          "name": "stdout",
          "text": [
            "Type: Vehicle\n",
            "Brand: Generic Car\n",
            "Battery: Electric Battery\n"
          ]
        }
      ]
    },
    {
      "cell_type": "markdown",
      "source": [
        "### 4) Demonstrate polymorphism by creating a base class Bird with a method fly(). Create two derived classes Sparrow and Penguin that override the fly() method.\n"
      ],
      "metadata": {
        "id": "maANJnFEAqoJ"
      }
    },
    {
      "cell_type": "code",
      "source": [
        "class Bird:\n",
        "    def fly(self):\n",
        "        print(\"Bird is flying\")\n",
        "\n",
        "class Sparrow(Bird):\n",
        "    def fly(self):\n",
        "        print(\"Sparrow can fly\")\n",
        "\n",
        "class Penguin(Bird):\n",
        "    def fly(self):\n",
        "        print(\"Penguin cannot fly\")"
      ],
      "metadata": {
        "id": "GIJ8V1yYAuuG"
      },
      "execution_count": 19,
      "outputs": []
    },
    {
      "cell_type": "code",
      "source": [
        "b1 = Sparrow()\n",
        "b2 = Penguin()\n",
        "b1.fly()\n",
        "b2.fly()"
      ],
      "metadata": {
        "colab": {
          "base_uri": "https://localhost:8080/"
        },
        "id": "IObdPSDyBBXF",
        "outputId": "a2acdb5c-1ab3-4a2a-86c1-589168ce703f"
      },
      "execution_count": 20,
      "outputs": [
        {
          "output_type": "stream",
          "name": "stdout",
          "text": [
            "Sparrow can fly\n",
            "Penguin cannot fly\n"
          ]
        }
      ]
    },
    {
      "cell_type": "markdown",
      "source": [
        "### 5)  Write a program to demonstrate encapsulation by creating a class BankAccount with private attributes balance and methods to deposit, withdraw, and check balance."
      ],
      "metadata": {
        "id": "NkseMpexBIne"
      }
    },
    {
      "cell_type": "code",
      "source": [
        "class BankAccount:\n",
        "    def __init__(self):\n",
        "        self.__balance = 0\n",
        "\n",
        "    def deposit(self, amount):\n",
        "        if amount > 0:\n",
        "            self.__balance += amount\n",
        "            print(\"Deposited:\", amount)\n",
        "        else:\n",
        "            print(\"Invalid deposit amount\")\n",
        "\n",
        "    def withdraw(self, amount):\n",
        "        if 0 < amount <= self.__balance:\n",
        "            self.__balance -= amount\n",
        "            print(\"Withdrawn:\", amount)\n",
        "        else:\n",
        "            print(\"Invalid or insufficient balance\")\n",
        "\n",
        "    def check_balance(self):\n",
        "        print(\"Current Balance:\", self.__balance)\n",
        "\n",
        "\n",
        "account = BankAccount()\n",
        "account.deposit(1000)\n",
        "account.withdraw(500)\n",
        "account.check_balance()"
      ],
      "metadata": {
        "colab": {
          "base_uri": "https://localhost:8080/"
        },
        "id": "f10oQbyBBMxi",
        "outputId": "6e725e46-9413-4883-a90f-8be98b735113"
      },
      "execution_count": 21,
      "outputs": [
        {
          "output_type": "stream",
          "name": "stdout",
          "text": [
            "Deposited: 1000\n",
            "Withdrawn: 500\n",
            "Current Balance: 500\n"
          ]
        }
      ]
    },
    {
      "cell_type": "markdown",
      "source": [
        "### 6)  Demonstrate runtime polymorphism using a method play() in a base class Instrument. Derive classes Guitar and Piano that implement their own version of play()."
      ],
      "metadata": {
        "id": "H2fucx7dBdtu"
      }
    },
    {
      "cell_type": "code",
      "source": [
        "class Instrument:\n",
        "    def play(self):\n",
        "        print(\"Playing an instrument\")\n",
        "\n",
        "class Guitar(Instrument):\n",
        "    def play(self):\n",
        "        print(\"Playing the guitar\")\n",
        "\n",
        "class Piano(Instrument):\n",
        "    def play(self):\n",
        "        print(\"Playing the piano\")\n",
        "\n",
        "def play_instrument(instrument):\n",
        "    instrument.play()"
      ],
      "metadata": {
        "id": "OK3gOyNjBh6D"
      },
      "execution_count": 22,
      "outputs": []
    },
    {
      "cell_type": "code",
      "source": [
        "g = Guitar()\n",
        "p = Piano()\n",
        "play_instrument(g)\n",
        "play_instrument(p)"
      ],
      "metadata": {
        "colab": {
          "base_uri": "https://localhost:8080/"
        },
        "id": "G1o7g9lkB0n0",
        "outputId": "6bf645c5-5754-481b-cb7e-6fdd96e8ccd5"
      },
      "execution_count": 23,
      "outputs": [
        {
          "output_type": "stream",
          "name": "stdout",
          "text": [
            "Playing the guitar\n",
            "Playing the piano\n"
          ]
        }
      ]
    },
    {
      "cell_type": "markdown",
      "source": [
        "### 7) Create a class MathOperations with a class method add_numbers() to add two numbers and a static method subtract_numbers() to subtract two numbers."
      ],
      "metadata": {
        "id": "q97r6bcMB_cy"
      }
    },
    {
      "cell_type": "code",
      "source": [
        "class MathOperations:\n",
        "    @classmethod\n",
        "    def add_numbers(cls, a, b):\n",
        "        return a + b\n",
        "\n",
        "    @staticmethod\n",
        "    def subtract_numbers(a, b):\n",
        "        return a - b\n",
        "print(MathOperations.add_numbers(20, 10))\n",
        "print(MathOperations.subtract_numbers(20, 10))"
      ],
      "metadata": {
        "colab": {
          "base_uri": "https://localhost:8080/"
        },
        "id": "03N-9guICEYT",
        "outputId": "27ee9e09-a477-464b-a3c8-329d6e76f0b0"
      },
      "execution_count": 24,
      "outputs": [
        {
          "output_type": "stream",
          "name": "stdout",
          "text": [
            "30\n",
            "10\n"
          ]
        }
      ]
    },
    {
      "cell_type": "markdown",
      "source": [
        "### 8)  Implement a class Person with a class method to count the total number of persons created."
      ],
      "metadata": {
        "id": "homsJb5fCYgp"
      }
    },
    {
      "cell_type": "code",
      "source": [
        "class Person:\n",
        "    count = 0\n",
        "    def __init__(self, name):\n",
        "        self.name = name\n",
        "        Person.count += 1\n",
        "\n",
        "    @classmethod\n",
        "    def total_persons(cls):\n",
        "        return cls.count\n",
        "\n",
        "p1 = Person(\"Neha\")\n",
        "p2 = Person(\"Rohit\")\n",
        "p3 = Person(\"Durga\")\n",
        "p4 = Person(\"Shetty\")\n",
        "print(\"Total persons created:\", Person.total_persons())"
      ],
      "metadata": {
        "colab": {
          "base_uri": "https://localhost:8080/"
        },
        "id": "N77VaDYICbjL",
        "outputId": "2e6ec723-725f-4f59-e8b4-d984fba89375"
      },
      "execution_count": 40,
      "outputs": [
        {
          "output_type": "stream",
          "name": "stdout",
          "text": [
            "Total persons created: 4\n"
          ]
        }
      ]
    },
    {
      "cell_type": "markdown",
      "source": [
        "### 9)  Write a class Fraction with attributes numerator and denominator. Override the str method to display the fraction as \"numerator/denominator\"."
      ],
      "metadata": {
        "id": "CKf4tlGbCxGv"
      }
    },
    {
      "cell_type": "code",
      "source": [
        "class Fraction:\n",
        "    def __init__(self, numerator, denominator):\n",
        "        self.numerator = numerator\n",
        "        self.denominator = denominator\n",
        "\n",
        "    def __str__(self):\n",
        "        return f\"{self.numerator}/{self.denominator}\"\n",
        "f = Fraction(15,18)\n",
        "print(f)"
      ],
      "metadata": {
        "colab": {
          "base_uri": "https://localhost:8080/"
        },
        "id": "e1ZUTx3gC018",
        "outputId": "b8e8e7a1-197f-464e-9a50-428ba6e0959a"
      },
      "execution_count": 26,
      "outputs": [
        {
          "output_type": "stream",
          "name": "stdout",
          "text": [
            "15/18\n"
          ]
        }
      ]
    },
    {
      "cell_type": "markdown",
      "source": [
        "### 10)  Demonstrate operator overloading by creating a class Vector and overriding the add method to add two vectors."
      ],
      "metadata": {
        "id": "Z_kTfUVQDDX3"
      }
    },
    {
      "cell_type": "code",
      "source": [
        "class Vector:\n",
        "    def __init__(self, x, y):\n",
        "        self.x = x\n",
        "        self.y = y\n",
        "\n",
        "    def __add__(self, other):\n",
        "        return Vector(self.x + other.x, self.y + other.y)\n",
        "\n",
        "    def __str__(self):\n",
        "        return f\"({self.x}, {self.y})\"\n",
        "\n",
        "v1 = Vector(6,7)\n",
        "v2 = Vector(8,9)\n",
        "v3 = v1 + v2\n",
        "print(v3)"
      ],
      "metadata": {
        "colab": {
          "base_uri": "https://localhost:8080/"
        },
        "id": "4WdSP231DHza",
        "outputId": "c461d67b-36f8-477b-baf8-4a9755edbd90"
      },
      "execution_count": 27,
      "outputs": [
        {
          "output_type": "stream",
          "name": "stdout",
          "text": [
            "(14, 16)\n"
          ]
        }
      ]
    },
    {
      "cell_type": "markdown",
      "source": [
        "### 11)  Create a class Person with attributes name and age. Add a method greet() that prints \"Hello, my name is {name} and I am {age} years old.\""
      ],
      "metadata": {
        "id": "QRGTcpecDYwk"
      }
    },
    {
      "cell_type": "code",
      "source": [
        "class Person:\n",
        "    def __init__(self, name, age):\n",
        "        self.name = name\n",
        "        self.age = age\n",
        "\n",
        "    def greet(self):\n",
        "        print(f\"Hello, my name is {self.name} and I am {self.age} years old.\")\n",
        "\n",
        "p = Person(\"Neha\", 24)\n",
        "p.greet()"
      ],
      "metadata": {
        "colab": {
          "base_uri": "https://localhost:8080/"
        },
        "id": "TDCZCLrvDcBI",
        "outputId": "b950c45f-1a22-4556-da3b-69a8be98e3fd"
      },
      "execution_count": 28,
      "outputs": [
        {
          "output_type": "stream",
          "name": "stdout",
          "text": [
            "Hello, my name is Neha and I am 24 years old.\n"
          ]
        }
      ]
    },
    {
      "cell_type": "markdown",
      "source": [
        "### 12)  Implement a class Student with attributes name and grades. Create a method average_grade() to compute the average of the grades."
      ],
      "metadata": {
        "id": "K1B7T_26D9i0"
      }
    },
    {
      "cell_type": "code",
      "source": [
        "class Student:\n",
        "    def __init__(self, name, grades):\n",
        "        self.name = name\n",
        "        self.grades = grades\n",
        "\n",
        "    def average_grade(self):\n",
        "        if len(self.grades) == 0:\n",
        "            return 0\n",
        "        return sum(self.grades) / len(self.grades)\n",
        "\n",
        "s = Student(\"Neha\", [85, 90, 78, 92])\n",
        "print(f\"{s.name}'s average grade is: {s.average_grade()}\")"
      ],
      "metadata": {
        "colab": {
          "base_uri": "https://localhost:8080/"
        },
        "id": "Ia2kit_lEArJ",
        "outputId": "5e145b0c-935c-4746-ef0e-4a925bc24cb3"
      },
      "execution_count": 29,
      "outputs": [
        {
          "output_type": "stream",
          "name": "stdout",
          "text": [
            "Neha's average grade is: 86.25\n"
          ]
        }
      ]
    },
    {
      "cell_type": "markdown",
      "source": [
        "### 13) Create a class Rectangle with methods set_dimensions() to set the dimensions and area() to calculate the area."
      ],
      "metadata": {
        "id": "qwZx_slaEQZL"
      }
    },
    {
      "cell_type": "code",
      "source": [
        "class Rectangle:\n",
        "    def set_dimensions(self, width, height):\n",
        "        self.width = width\n",
        "        self.height = height\n",
        "\n",
        "    def area(self):\n",
        "        return self.width * self.height\n",
        "\n",
        "rect = Rectangle()\n",
        "rect.set_dimensions(30,40)\n",
        "print(\"Area of rectangle:\", rect.area())"
      ],
      "metadata": {
        "colab": {
          "base_uri": "https://localhost:8080/"
        },
        "id": "9FqjC7JOEaFX",
        "outputId": "e5fe6ea8-353b-4b0e-c49e-a521f74c0c28"
      },
      "execution_count": 30,
      "outputs": [
        {
          "output_type": "stream",
          "name": "stdout",
          "text": [
            "Area of rectangle: 1200\n"
          ]
        }
      ]
    },
    {
      "cell_type": "markdown",
      "source": [
        "### 14)  Create a class Employee with a method calculate_salary() that computes the salary  based on hours worked and hourly rate. Create a derived class Manager that adds a bonus to the salary."
      ],
      "metadata": {
        "id": "bwRzlrDjEk3M"
      }
    },
    {
      "cell_type": "code",
      "source": [
        "class Employee:\n",
        "    def __init__(self, hours_worked, hourly_rate):\n",
        "        self.hours_worked = hours_worked\n",
        "        self.hourly_rate = hourly_rate\n",
        "\n",
        "    def calculate_salary(self):\n",
        "        return self.hours_worked * self.hourly_rate\n",
        "\n",
        "class Manager(Employee):\n",
        "    def __init__(self, hours_worked, hourly_rate, bonus):\n",
        "        super().__init__(hours_worked, hourly_rate)\n",
        "        self.bonus = bonus\n",
        "\n",
        "    def calculate_salary(self):\n",
        "        base_salary = super().calculate_salary()\n",
        "        return base_salary + self.bonus\n",
        "\n",
        "emp = Employee(40, 15)\n",
        "mgr = Manager(40, 15, 500)\n",
        "print(\"Employee Salary:\", emp.calculate_salary())\n",
        "print(\"Manager Salary:\", mgr.calculate_salary())"
      ],
      "metadata": {
        "colab": {
          "base_uri": "https://localhost:8080/"
        },
        "id": "Gb9qtGw9ErAX",
        "outputId": "66dff60a-f957-4c15-d182-549988b27eb2"
      },
      "execution_count": 31,
      "outputs": [
        {
          "output_type": "stream",
          "name": "stdout",
          "text": [
            "Employee Salary: 600\n",
            "Manager Salary: 1100\n"
          ]
        }
      ]
    },
    {
      "cell_type": "markdown",
      "source": [
        "### 15)  Create a class Product with attributes name, price, and quantity. Implement a method total_price() that calculates the total price of the product.\n",
        "\n",
        "\n"
      ],
      "metadata": {
        "id": "FSjqZ_wPE_uX"
      }
    },
    {
      "cell_type": "code",
      "source": [
        "class Product:\n",
        "    def __init__(self, name, price, quantity):\n",
        "        self.name = name\n",
        "        self.price = price\n",
        "        self.quantity = quantity\n",
        "\n",
        "    def total_price(self):\n",
        "        return self.price * self.quantity\n",
        "\n",
        "p = Product(\"Iphone\", 100000, 2)\n",
        "print(f\"Total price for {p.quantity} {p.name}s is: {p.total_price()}\")"
      ],
      "metadata": {
        "colab": {
          "base_uri": "https://localhost:8080/"
        },
        "id": "VKoaPrXZFEx6",
        "outputId": "1d3a5831-5363-47f3-982c-0d019f96edf9"
      },
      "execution_count": 34,
      "outputs": [
        {
          "output_type": "stream",
          "name": "stdout",
          "text": [
            "Total price for 2 Iphones is: 200000\n"
          ]
        }
      ]
    },
    {
      "cell_type": "markdown",
      "source": [
        "### 16)  Create a class Animal with an abstract method sound(). Create two derived classes Cow and Sheep that implement the sound() method."
      ],
      "metadata": {
        "id": "GjeY2WSjFl_6"
      }
    },
    {
      "cell_type": "code",
      "source": [
        "from abc import ABC, abstractmethod\n",
        "\n",
        "class Animal(ABC):\n",
        "    @abstractmethod\n",
        "    def sound(self):\n",
        "        pass\n",
        "\n",
        "class Cow(Animal):\n",
        "    def sound(self):\n",
        "        print(\"Moo\")\n",
        "\n",
        "class Sheep(Animal):\n",
        "    def sound(self):\n",
        "        print(\"Baa\")"
      ],
      "metadata": {
        "id": "5Cz1__DRFpm3"
      },
      "execution_count": 35,
      "outputs": []
    },
    {
      "cell_type": "code",
      "source": [
        "cow = Cow()\n",
        "sheep = Sheep()\n",
        "cow.sound()\n",
        "sheep.sound()"
      ],
      "metadata": {
        "colab": {
          "base_uri": "https://localhost:8080/"
        },
        "id": "b7yY2HvvF0kR",
        "outputId": "de0281ee-0e3b-4c36-bbee-f8824605c578"
      },
      "execution_count": 36,
      "outputs": [
        {
          "output_type": "stream",
          "name": "stdout",
          "text": [
            "Moo\n",
            "Baa\n"
          ]
        }
      ]
    },
    {
      "cell_type": "markdown",
      "source": [
        "### 17) Create a class Book with attributes title, author, and year_published. Add a method get_book_info() that returns a formatted string with the book's details."
      ],
      "metadata": {
        "id": "S1TvLF09F4pv"
      }
    },
    {
      "cell_type": "code",
      "source": [
        "class Book:\n",
        "    def __init__(self, title, author, year_published):\n",
        "        self.title = title\n",
        "        self.author = author\n",
        "        self.year_published = year_published\n",
        "\n",
        "    def get_book_info(self):\n",
        "        info = \"Title: {}\\nAuthor: {}\\nYear Published: {}\".format(\n",
        "            self.title, self.author, self.year_published)\n",
        "        return info\n",
        "\n",
        "book = Book(\"To Kill a Mockingbird\", \"Harper Lee\", 1960)\n",
        "print(book.get_book_info())"
      ],
      "metadata": {
        "colab": {
          "base_uri": "https://localhost:8080/"
        },
        "id": "kX_Ce2CNF_cD",
        "outputId": "76da0861-0431-4aac-ca73-9b7a73905e6d"
      },
      "execution_count": 38,
      "outputs": [
        {
          "output_type": "stream",
          "name": "stdout",
          "text": [
            "Title: To Kill a Mockingbird\n",
            "Author: Harper Lee\n",
            "Year Published: 1960\n"
          ]
        }
      ]
    },
    {
      "cell_type": "markdown",
      "source": [
        "### 18)  Create a class House with attributes address and price. Create a derived class Mansion that adds an attribute number_of_rooms."
      ],
      "metadata": {
        "id": "d0DmEeOMGdXM"
      }
    },
    {
      "cell_type": "code",
      "source": [
        "class House:\n",
        "    def __init__(self, address, price):\n",
        "        self.address = address\n",
        "        self.price = price\n",
        "\n",
        "    def display_info(self):\n",
        "        print(f\"House located at {self.address} costs {self.price}\")\n",
        "\n",
        "class Mansion(House):\n",
        "    def __init__(self, address, price, number_of_rooms):\n",
        "        super().__init__(address, price)\n",
        "        self.number_of_rooms = number_of_rooms\n",
        "\n",
        "    def display_info(self):\n",
        "        print(f\"Mansion located at {self.address} costs {self.price} and has {self.number_of_rooms} rooms\")\n",
        "\n",
        "house = House(\"789 Elm Street\", 300000)\n",
        "mansion = Mansion(\"1010 Rich Lane\", 5000000, 15)\n",
        "\n",
        "house.display_info()\n",
        "mansion.display_info()"
      ],
      "metadata": {
        "colab": {
          "base_uri": "https://localhost:8080/"
        },
        "id": "V6uAWLSIGjEy",
        "outputId": "f06177ea-b80e-445b-d5db-936ccf094fbf"
      },
      "execution_count": 39,
      "outputs": [
        {
          "output_type": "stream",
          "name": "stdout",
          "text": [
            "House located at 789 Elm Street costs 300000\n",
            "Mansion located at 1010 Rich Lane costs 5000000 and has 15 rooms\n"
          ]
        }
      ]
    }
  ]
}